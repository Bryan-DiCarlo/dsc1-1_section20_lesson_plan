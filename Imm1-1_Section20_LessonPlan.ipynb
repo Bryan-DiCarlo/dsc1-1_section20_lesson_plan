{
 "cells": [
  {
   "cell_type": "markdown",
   "metadata": {},
   "source": [
    "# Experimental Design\n",
    "\n",
    "## Introduction\n",
    "\n",
    "This section is all about conducting statistical experiments! "
   ]
  },
  {
   "cell_type": "markdown",
   "metadata": {},
   "source": [
    "## Prework\n",
    "\n",
    "* Introduction\n",
    "* Introduction to Experimental Design\n",
    "* P-values and the Null Hypothesis\n",
    "* Effect Sizes\n",
    "* Type 1 and Type 2 Errors\n",
    "* Statistical Power\n",
    "* \n",
    "* Multiple Comparisons Problem\n",
    "* A/B Testing\n",
    "* Goodhart’s Law and Metric Tracking\n",
    "* ANOVA\n",
    "* Section Recap\n",
    "\n",
    "## Postwork\n",
    "* Type 1 and Type 2 Errors - Lab\n",
    "* One Sample T-Test - Lab\n",
    "* Two Sample T-Test - Lab\n",
    "* Statistical Power - Lab\n",
    "* Effect Sizes, P Values, and Power - Lab\n",
    "* A/B Testing - Lab\n",
    "* ANOVA - Lab"
   ]
  },
  {
   "cell_type": "markdown",
   "metadata": {},
   "source": [
    "## Effect Size, Sample Size, Power and Type I vs II errors\n",
    "\n",
    "Designing well thought out experiments requires careful consideration of balancing the precision and confidence you desire your results to have versus the amount of data required to meet these standards. If you wish to detect a 1% increase in patient outcomes for a new blood pressure medicine, you will need substantially more data then if you were in search of a 5% increase in outcomes. The reason is that more subtle differences such as an increase of only 1%, could be caused by simple random variation alone, and thus the sample size required to confidently detect such small differences can be quite large. \n",
    "\n",
    "One of the most common experimental designs is a **hypothesis test** or **A/B test**. In a hypothesis test, one states the null hypothesis. Typically, this is written with the hope of rejecting the null hypothesis. In the case of the blood pressure example above, it would be sensible to state the null hypothesis along the lines of \"drug B will lower patients normal systolic blood pressure by 10.\" In addition, one then also defines the desired effect size one wishes to be able to reasonably detect for the alternative hypothesis. For example, one might state the alternative hypothesis as \"drug B will lower patients normal systolic blood pressure by 12.\" In this scenario, the measure **effect size** is 2. (The null hypothesis stated 10 vs the alternative hypothesis stated 12; the difference is the effect size.) Finally, one then chooses either a sample size that is feasible to attain, or a required confidence level required for the domain. Typically, many researches use de facto standards of $\\alpha = .05$ or $\\alpha = .01$. These translate to having a 95% confidence and 99% confidence in the results achieved, respectively. That is, an $\\alpha$ value of .05 implies that you will reject the null hypothesis 5% of the time when it is actually true. This is also know as the rate of **type I errors**. While you can use lower values of alpha such as $\\alpha=.01$, doing so will increase the rate of **type II errors**, or the chance that you will accept the null hypothesis when it is actually false. \n",
    "\n",
    "Similarly, we call the rate of type II errors $\\beta$ (beta). Alternatively, the term **power** is used which is $1-\\beta$. Thus as the power increases, the rate of type II errors decreases. Ideally one strives for statistical tests with a high level of power while also maintaining realistic sample sizes. With all of this, let's take a look at conducting some T-tests to compare the means of two sample groups. Afterwards, we'll then further investigate the relationship between power, sample size and effect size."
   ]
  },
  {
   "cell_type": "code",
   "execution_count": null,
   "metadata": {},
   "outputs": [],
   "source": [
    "## I do\n",
    "import numpy as np\n",
    "\n",
    "## Generate 2 random samples\n",
    "sample1 = np.random.normal(loc=10, size=20)\n",
    "sample2 = np.random.normal(loc=12, size=20)\n",
    "\n",
    "## Perform T-Test\n",
    "stats.ttest_ind(sample1, sample2)\n",
    "\n",
    "## Repeat and Validate Type I/ Type II error Rates"
   ]
  },
  {
   "cell_type": "code",
   "execution_count": null,
   "metadata": {},
   "outputs": [],
   "source": [
    "## We do "
   ]
  },
  {
   "cell_type": "code",
   "execution_count": null,
   "metadata": {},
   "outputs": [],
   "source": [
    "## You do"
   ]
  },
  {
   "cell_type": "markdown",
   "metadata": {},
   "source": [
    "## Discussion Questions:\n",
    "\n",
    "* How might you investigate the relationship between effect size, sample size and power for the above scenario?"
   ]
  },
  {
   "cell_type": "markdown",
   "metadata": {},
   "source": [
    "# Additional Useful Investigation from V2\n",
    "\n",
    "https://github.com/learn-co-curriculum/dsc-effect-sizes-pvalues-and-power-lab/tree/solution"
   ]
  },
  {
   "cell_type": "markdown",
   "metadata": {},
   "source": [
    "## ANOVA\n",
    "\n",
    "> Note: Briefly mention, but focus attention to developing a solid understanding of A/B testing. There's already a lot of theory and concepts for students to master"
   ]
  }
 ],
 "metadata": {
  "kernelspec": {
   "display_name": "Python 3",
   "language": "python",
   "name": "python3"
  },
  "language_info": {
   "codemirror_mode": {
    "name": "ipython",
    "version": 3
   },
   "file_extension": ".py",
   "mimetype": "text/x-python",
   "name": "python",
   "nbconvert_exporter": "python",
   "pygments_lexer": "ipython3",
   "version": "3.7.3"
  }
 },
 "nbformat": 4,
 "nbformat_minor": 2
}
